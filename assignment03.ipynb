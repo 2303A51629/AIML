{
  "nbformat": 4,
  "nbformat_minor": 0,
  "metadata": {
    "colab": {
      "provenance": [],
      "authorship_tag": "ABX9TyNn9+ZpdxUquPGp6zTaJc5o",
      "include_colab_link": true
    },
    "kernelspec": {
      "name": "python3",
      "display_name": "Python 3"
    },
    "language_info": {
      "name": "python"
    }
  },
  "cells": [
    {
      "cell_type": "markdown",
      "metadata": {
        "id": "view-in-github",
        "colab_type": "text"
      },
      "source": [
        "<a href=\"https://colab.research.google.com/github/2303A51629/AIML/blob/main/Aiml_A3.ipynb\" target=\"_parent\"><img src=\"https://colab.research.google.com/assets/colab-badge.svg\" alt=\"Open In Colab\"/></a>"
      ]
    },
    {
      "cell_type": "code",
      "source": [
        "GAME STAREGY"
      ],
      "metadata": {
        "id": "4RZn02BO5kBu"
      },
      "execution_count": null,
      "outputs": []
    },
    {
      "cell_type": "markdown",
      "source": [],
      "metadata": {
        "id": "xBoItTmh5dx-"
      }
    },
    {
      "cell_type": "code",
      "execution_count": 17,
      "metadata": {
        "id": "KOE7ci4M8-6A"
      },
      "outputs": [],
      "source": [
        "import random\n",
        "from functools import lru_cache\n",
        "\n",
        "class Game:\n",
        "    def init(self):\n",
        "        self.initial = None\n",
        "\n",
        "    def actions(self, state):\n",
        "\n",
        "        raise NotImplementedError\n",
        "\n",
        "    def result(self, state, move):\n",
        "\n",
        "        raise NotImplementedError\n",
        "\n",
        "    def is_terminal(self, state):\n",
        "        return not self.actions(state)\n",
        "\n",
        "    def utility(self, state, player):\n",
        "\n",
        "        raise NotImplementedError\n"
      ]
    },
    {
      "cell_type": "markdown",
      "source": [],
      "metadata": {
        "id": "V7vuG1ap5rtd"
      }
    },
    {
      "cell_type": "code",
      "source": [
        "class TicTacToe(Game):\n",
        "    def init(self):\n",
        "        super().init()\n",
        "        self.initial = [' '] * 9  # Initialize an empty board\n",
        "\n",
        "    def actions(self, state):\n",
        "\n",
        "        return [i for i, x in enumerate(state) if x == ' ']\n",
        "\n",
        "    def result(self, state, move):\n",
        "        new_state = state[:]\n",
        "        new_state[move] = 'X' if state.count('X') <= state.count('O') else 'O'\n",
        "        return new_state\n",
        "\n",
        "    def is_terminal(self, state):\n",
        "        winning_combinations = [\n",
        "            (0, 1, 2), (3, 4, 5), (6, 7, 8),  # Rows\n",
        "            (0, 3, 6), (1, 4, 7), (2, 5, 8),  # Columns\n",
        "            (0, 4, 8), (2, 4, 6)               # Diagonals\n",
        "        ]\n",
        "\n",
        "        for (a, b, c) in winning_combinations:\n",
        "            if state[a] == state[b] == state[c] != ' ':\n",
        "                return True\n",
        "\n",
        "        return ' ' not in state\n",
        "\n",
        "    def utility(self, state, player):\n",
        "        winning_combinations = [\n",
        "            (0, 1, 2), (3, 4, 5), (6, 7, 8),  # Rows\n",
        "            (0, 3, 6), (1, 4, 7), (2, 5, 8),  # Columns\n",
        "            (0, 4, 8), (2, 4, 6)               # Diagonals\n",
        "        ]\n",
        "\n",
        "        for (a, b, c) in winning_combinations:\n",
        "            if state[a] == state[b] == state[c]:\n",
        "                if state[a] == player:\n",
        "                    return 1\n",
        "                elif state[a] != ' ':\n",
        "                    return -1\n",
        "\n",
        "        return 0"
      ],
      "metadata": {
        "id": "SmG4s2VsFiBv"
      },
      "execution_count": 18,
      "outputs": []
    },
    {
      "cell_type": "code",
      "source": [
        "def play_game(game, strategies, verbose=False):\n",
        "\n",
        "    state = game.initial\n",
        "    while not game.is_terminal(state):\n",
        "        # Determine the current player\n",
        "        player = 'X' if state.count('X') <= state.count('O') else 'O'\n",
        "\n",
        "        # Get the move from the strategy\n",
        "        move = strategies[player](game, state)\n",
        "\n",
        "        # Apply the move to the game\n",
        "        state = game.result(state, move)\n",
        "\n",
        "        if verbose:\n",
        "            print(f\"Player {player} moves at position {move}\")\n",
        "            print_board(state)\n",
        "\n",
        "    if verbose:\n",
        "        print(\"Game over!\")\n",
        "        print_board(state)\n",
        "\n",
        "    return state\n",
        "\n",
        "def print_board(board):\n",
        "    for i in range(0, 9, 3):\n",
        "        print(f\"{board[i]} | {board[i+1]} | {board[i+2]}\")\n",
        "        if i < 6:\n",
        "            print(\"---------\")\n",
        "\n",
        "# Example strategies for players\n",
        "def random_strategy(game, state):\n",
        "    return random.choice(game.actions(state))\n",
        "\n",
        "def always_first_available_strategy(game, state):\n",
        "    return game.actions(state)[0]\n",
        "\n",
        "\n",
        "    final_state = play_game(game, strategies, verbose=True)"
      ],
      "metadata": {
        "id": "2SEuvYHCFh_Q"
      },
      "execution_count": 16,
      "outputs": []
    },
    {
      "cell_type": "markdown",
      "source": [
        "part 02 min max\n"
      ],
      "metadata": {
        "id": "kcxKdlCO52tN"
      }
    },
    {
      "cell_type": "code",
      "source": [
        "import math\n",
        "\n",
        "def minimax_search(game, state):\n",
        "    \"\"\"\n",
        "    Search the game tree to determine the best move; return (value, move) pair.\n",
        "    \"\"\"\n",
        "    player = state.to_move\n",
        "\n",
        "    def max_value(state):\n",
        "        if game.is_terminal(state):\n",
        "            return game.utility(state, player), None\n",
        "        v, move = -math.inf, None\n",
        "        for a in game.actions(state):\n",
        "            v2, _ = min_value(game.result(state, a))\n",
        "            if v2 > v:\n",
        "                v, move = v2, a\n",
        "        return v, move\n",
        "\n",
        "    def min_value(state):\n",
        "        if game.is_terminal(state):\n",
        "            return game.utility(state, player), None\n",
        "        v, move = math.inf, None\n",
        "        for a in game.actions(state):\n",
        "            v2, _ = max_value(game.result(state, a))\n",
        "            if v2 < v:\n",
        "                v, move = v2, a\n",
        "        return v, move\n",
        "\n",
        "    return max_value(state) if player == game.max_player else min_value(state)"
      ],
      "metadata": {
        "id": "cEdgZo_CFh89"
      },
      "execution_count": 15,
      "outputs": []
    },
    {
      "cell_type": "markdown",
      "source": [
        "alpha beta search algorithm"
      ],
      "metadata": {
        "id": "TI44_lBt57ck"
      }
    },
    {
      "cell_type": "code",
      "source": [
        "import math\n",
        "\n",
        "def alphabeta_search(game, state):\n",
        "    \"\"\"\n",
        "    Search the game tree to determine the best action using alpha-beta pruning.\n",
        "    Searches all the way to the leaves.\n",
        "    \"\"\"\n",
        "    player = state.to_move\n",
        "\n",
        "    def max_value(state, alpha, beta):\n",
        "        if game.is_terminal(state):\n",
        "            return game.utility(state, player), None\n",
        "        v, move = -math.inf, None\n",
        "        for a in game.actions(state):\n",
        "            v2, _ = min_value(game.result(state, a), alpha, beta)\n",
        "            if v2 > v:\n",
        "                v, move = v2, a\n",
        "            alpha = max(alpha, v)\n",
        "            if v >= beta:\n",
        "                break  # Beta cutoff\n",
        "        return v, move\n",
        "\n",
        "    def min_value(state, alpha, beta):\n",
        "        if game.is_terminal(state):\n",
        "            return game.utility(state, player), None\n",
        "        v, move = math.inf, None\n",
        "        for a in game.actions(state):\n",
        "            v2, _ = max_value(game.result(state, a), alpha, beta)\n",
        "            if v2 < v:\n",
        "                v, move = v2, a\n",
        "            beta = min(beta, v)\n",
        "            if v <= alpha:\n",
        "                break  # Alpha cutoff\n",
        "        return v, move\n",
        "\n",
        "    return max_value(state, -math.inf, math.inf) if player == game.max_player else min_value(state, -math.inf, math.inf)"
      ],
      "metadata": {
        "id": "Nt5KJ73uI9mN"
      },
      "execution_count": 4,
      "outputs": []
    },
    {
      "cell_type": "markdown",
      "source": [
        "class tic tacToe implementation"
      ],
      "metadata": {
        "id": "RNFkBr_y6WLs"
      }
    },
    {
      "cell_type": "code",
      "source": [
        "#Class TicTacToe implementation\n",
        "\n",
        "\n",
        "import random\n",
        "from collections import defaultdict\n",
        "from typing import Dict, Tuple, List, Callable\n",
        "\n",
        "class TicTacToe:\n",
        "    \"\"\"Play TicTacToe on a height by width board, needing k in a row to win.\"\"\"\n",
        "\n",
        "    def _init_(self, height=3, width=3, k=3):\n",
        "        self.k = k  # k in a row to win\n",
        "        self.squares = {(x, y) for x in range(width) for y in range(height)}\n",
        "        self.initial = Board(width=width, height=height, to_move='X', utility=0)\n",
        "\n",
        "    def actions(self, board: 'Board') -> set:\n",
        "        \"\"\"Legal moves are any square not yet taken.\"\"\"\n",
        "        return self.squares - set(board)\n",
        "\n",
        "    def result(self, board: 'Board', square: Tuple[int, int]) -> 'Board':\n",
        "        \"\"\"Place a marker for the current player on square.\"\"\"\n",
        "        player = board.to_move\n",
        "        new_board = board.new({square: player}, to_move=('O' if player == 'X' else 'X'))\n",
        "        if self.k_in_row(new_board, player, square):\n",
        "            new_board.utility = 1 if player == 'X' else -1\n",
        "        return new_board\n",
        "\n",
        "    def utility(self, board: 'Board', player: str) -> int:\n",
        "        \"\"\"Return the value to player; 1 for win, -1 for loss, 0 otherwise.\"\"\"\n",
        "        return board.utility if player == 'X' else -board.utility\n",
        "\n",
        "    def is_terminal(self, board: 'Board') -> bool:\n",
        "        \"\"\"A board is a terminal state if it is won or there are no empty squares.\"\"\"\n",
        "        return board.utility != 0 or len(self.squares) == len(board)\n",
        "\n",
        "    def display(self, board: 'Board'):\n",
        "        print(board)\n",
        "\n",
        "    def k_in_row(self, board: 'Board', player: str, square: Tuple[int, int]) -> bool:\n",
        "        \"\"\"True if player has k pieces in a line through square.\"\"\"\n",
        "        def in_row(x: int, y: int, dx: int, dy: int) -> int:\n",
        "            count = 0\n",
        "            while 0 <= x < board.width and 0 <= y < board.height and board[x, y] == player:\n",
        "                count += 1\n",
        "                x += dx\n",
        "                y += dy\n",
        "            return count\n",
        "\n",
        "        x, y = square\n",
        "        return any(\n",
        "            in_row(x, y, dx, dy) + in_row(x, y, -dx, -dy) - 1 >= self.k\n",
        "            for dx, dy in ((0, 1), (1, 0), (1, 1), (1, -1))\n",
        "        )"
      ],
      "metadata": {
        "id": "II0Q48Ru6RG1"
      },
      "execution_count": 5,
      "outputs": []
    },
    {
      "cell_type": "markdown",
      "source": [
        "CLASS BOARD"
      ],
      "metadata": {
        "id": "Cu5l7wdI_MeD"
      }
    },
    {
      "cell_type": "code",
      "source": [
        "#Class Board\n",
        "\n",
        "\n",
        "\n",
        "class Board(defaultdict):\n",
        "    \"\"\"A board has the player to move, a cached utility value, and a dict of {(x, y): player} entries.\"\"\"\n",
        "\n",
        "    empty = '.'\n",
        "    off = '#'\n",
        "\n",
        "    def _init_(self, width=8, height=8, to_move=None, **kwds):\n",
        "        super()._init_(self.empty)\n",
        "        self.update(width=width, height=height, to_move=to_move, **kwds)\n",
        "        self.utility = 0\n",
        "\n",
        "    def new(self, changes: Dict[Tuple[int, int], str], **kwds) -> 'Board':\n",
        "        \"\"\"Given a dict of {(x, y): contents} changes, return a new Board with the changes.\"\"\"\n",
        "        board = Board(width=self.width, height=self.height, **kwds)\n",
        "        board.update(self)\n",
        "        board.update(changes)\n",
        "        return board\n",
        "\n",
        "    def missing(self, loc: Tuple[int, int]) -> str:\n",
        "        x, y = loc\n",
        "        if 0 <= x < self.width and 0 <= y < self.height:\n",
        "            return self.empty\n",
        "        else:\n",
        "            return self.off\n",
        "\n",
        "    def _hash_(self) -> int:\n",
        "        return hash(tuple(sorted(self.items()))) + hash(self.to_move)\n",
        "\n",
        "    def _repr_(self) -> str:\n",
        "        def row(y: int) -> str:\n",
        "            return ' '.join(self[x, y] for x in range(self.width))\n",
        "        return '\\n'.join(row(y) for y in range(self.height))+'\\n'\n"
      ],
      "metadata": {
        "id": "oY1qEAcb80UU"
      },
      "execution_count": 21,
      "outputs": []
    },
    {
      "cell_type": "markdown",
      "source": [
        "PLAYER FUNCTION"
      ],
      "metadata": {
        "id": "8sPuuoTR_fIQ"
      }
    },
    {
      "cell_type": "code",
      "source": [
        "#Player Function\n",
        "\n",
        "\n",
        "def random_player(game: TicTacToe, state: Board) -> Tuple[int, int]:\n",
        "    \"\"\"Random player that returns a random legal move.\"\"\"\n",
        "    return random.choice(list(game.actions(state)))\n",
        "\n",
        "def player(search_algorithm: Callable[[TicTacToe, Board], Tuple[int, int]]) -> Callable[[TicTacToe, Board], Tuple[int, int]]:\n",
        "    \"\"\"A game player who uses the specified search algorithm.\"\"\"\n",
        "    return lambda game, state: search_algorithm(game,state)[1]"
      ],
      "metadata": {
        "id": "M92XCV72_XvL"
      },
      "execution_count": 25,
      "outputs": []
    },
    {
      "cell_type": "markdown",
      "source": [
        "PART 04\n",
        "TIC TAC TOE GAME IMPLEMENTATION"
      ],
      "metadata": {
        "id": "y9NtDlGj_ylw"
      }
    },
    {
      "cell_type": "code",
      "source": [
        "#Part_4_Tic-Tac-Toe Game Implementation\n",
        "\n",
        "\n",
        "import random\n",
        "import math\n",
        "\n",
        "class TicTacToe:\n",
        "    def _init_(self):\n",
        "        self.board = [' '] * 9\n",
        "        self.current_winner = None  # Keep track of the winner!\n",
        "\n",
        "    def print_board(self):\n",
        "        for i in range(0, 9, 3):\n",
        "            print('|'.join(self.board[i:i + 3]))\n",
        "        print()\n",
        "\n",
        "    def available_moves(self):\n",
        "        return [i for i, spot in enumerate(self.board) if spot == ' ']\n",
        "\n",
        "    def make_move(self, square, letter):\n",
        "        if self.board[square] == ' ':\n",
        "            self.board[square] = letter\n",
        "            if self.winner(square, letter):\n",
        "                self.current_winner = letter\n",
        "            return True\n",
        "        return False\n",
        "\n",
        "    def winner(self, square, letter):\n",
        "        row_ind = square // 3\n",
        "        row = self.board[row_ind * 3: (row_ind + 1) * 3]\n",
        "        if all([spot == letter for spot in row]):\n",
        "            return True\n",
        "        col_ind = square % 3\n",
        "        column = [self.board[col_ind + i * 3] for i in range(3)]\n",
        "        if all([spot == letter for spot in column]):\n",
        "            return True\n",
        "        if square % 2 == 0:\n",
        "            diagonal1 = [self.board[i] for i in [0, 4, 8]]\n",
        "            if all([spot == letter for spot in diagonal1]):\n",
        "                return True\n",
        "            diagonal2 = [self.board[i] for i in [2, 4, 6]]\n",
        "            if all([spot == letter for spot in diagonal2]):\n",
        "                return True\n",
        "        return False\n",
        "\n",
        "    def is_full(self):\n",
        "        return ' ' not in self.board\n",
        "\n",
        "    def reset(self):\n",
        "        self._init_()\n",
        "\n",
        "def play_game(game, players, verbose=False):\n",
        "    game.reset()\n",
        "    turn = 'X'\n",
        "    while not game.is_full():\n",
        "        if verbose:\n",
        "            game.print_board()\n",
        "        move = players[turn](game)\n",
        "        game.make_move(move, turn)\n",
        "        if game.current_winner:\n",
        "            if verbose:\n",
        "                game.print_board()\n",
        "            return turn\n",
        "        turn = 'O' if turn == 'X' else 'X'\n",
        "    if verbose:\n",
        "        game.print_board()\n",
        "        return'Tie'\n"
      ],
      "metadata": {
        "id": "NcsKJdFV_sOO"
      },
      "execution_count": 29,
      "outputs": []
    },
    {
      "cell_type": "markdown",
      "source": [
        "IMPLEMENTING PLAYER STRATERGIES"
      ],
      "metadata": {
        "id": "_YilnP1QAGTF"
      }
    },
    {
      "cell_type": "code",
      "source": [
        "#Implementing Player Strategies\n",
        "\n",
        "\n",
        "def random_player(game):\n",
        "    return random.choice(game.available_moves())"
      ],
      "metadata": {
        "id": "XraYFiToAAmi"
      },
      "execution_count": 31,
      "outputs": []
    },
    {
      "cell_type": "markdown",
      "source": [
        "IMPLEMENTING PLAYER STRATEGIES"
      ],
      "metadata": {
        "id": "2Fzn4WycAVvt"
      }
    },
    {
      "cell_type": "code",
      "source": [
        "#Implementing Player Strategies\n",
        "\n",
        "\n",
        "def alpha_beta_search(game, depth, alpha, beta, maximizing_player):\n",
        "    if game.current_winner == 'X':\n",
        "        return 1\n",
        "    if game.current_winner == 'O':\n",
        "        return -1\n",
        "    if game.is_full() or depth == 0:\n",
        "        return 0\n",
        "\n",
        "    if maximizing_player:\n",
        "        max_eval = -math.inf\n",
        "        for move in game.available_moves():\n",
        "            game.make_move(move, 'X')\n",
        "            eval = alpha_beta_search(game, depth - 1, alpha, beta, False)\n",
        "            game.board[move] = ' '\n",
        "            game.current_winner = None\n",
        "            max_eval = max(max_eval, eval)\n",
        "            alpha = max(alpha, eval)\n",
        "            if beta <= alpha:\n",
        "                break\n",
        "        return max_eval\n",
        "    else:\n",
        "        min_eval = math.inf\n",
        "        for move in game.available_moves():\n",
        "            game.make_move(move, 'O')\n",
        "            eval = alpha_beta_search(game, depth - 1, alpha, beta, True)\n",
        "            game.board[move] = ' '\n",
        "            game.current_winner = None\n",
        "            min_eval = min(min_eval, eval)\n",
        "            beta = min(beta, eval)\n",
        "            if beta <= alpha:\n",
        "                break\n",
        "        return min_eval\n",
        "\n",
        "def alpha_beta_player(game):\n",
        "    best_move = None\n",
        "    best_value = -math.inf\n",
        "    for move in game.available_moves():\n",
        "        game.make_move(move, 'X')\n",
        "        move_value = alpha_beta_search(game, 3, -math.inf, math.inf, False)\n",
        "        game.board[move] = ' '\n",
        "        game.current_winner = None\n",
        "        if move_value > best_value:\n",
        "            best_value = move_value\n",
        "            best_move = move\n",
        "    return best_move\n"
      ],
      "metadata": {
        "id": "_bYQFis7AM8H"
      },
      "execution_count": 32,
      "outputs": []
    },
    {
      "cell_type": "markdown",
      "source": [
        "MINMAX SEARCH PLAYER"
      ],
      "metadata": {
        "id": "UjNx_UCoBHrV"
      }
    },
    {
      "cell_type": "code",
      "source": [
        "#Minimax Search Player\n",
        "\n",
        "\n",
        "def minimax_search(game, depth, maximizing_player):\n",
        "    if game.current_winner == 'X':\n",
        "        return 1\n",
        "    if game.current_winner == 'O':\n",
        "        return -1\n",
        "    if game.is_full() or depth == 0:\n",
        "        return 0\n",
        "\n",
        "    if maximizing_player:\n",
        "        best_value = -math.inf\n",
        "        for move in game.available_moves():\n",
        "            game.make_move(move, 'X')\n",
        "            move_value = minimax_search(game, depth - 1, False)\n",
        "            game.board[move] = ' '\n",
        "            game.current_winner = None\n",
        "            best_value = max(best_value, move_value)\n",
        "        return best_value\n",
        "    else:\n",
        "        best_value = math.inf\n",
        "        for move in game.available_moves():\n",
        "            game.make_move(move, 'O')\n",
        "            move_value = minimax_search(game, depth - 1, True)\n",
        "            game.board[move] = ' '\n",
        "            game.current_winner = None\n",
        "            best_value = min(best_value, move_value)\n",
        "        return best_value\n",
        "\n",
        "def minimax_player(game):\n",
        "    best_move = None\n",
        "    best_value = -math.inf\n",
        "    for move in game.available_moves():\n",
        "        game.make_move(move, 'X')\n",
        "        move_value = minimax_search(game, 3, False)\n",
        "        game.board[move] = ' '\n",
        "        game.current_winner = None\n",
        "        if move_value > best_value:\n",
        "            best_value = move_value\n",
        "            best_move = move\n",
        "            return best_move"
      ],
      "metadata": {
        "id": "hMONDxG7At8D"
      },
      "execution_count": 36,
      "outputs": []
    },
    {
      "cell_type": "markdown",
      "source": [
        "RUNNING THE GAMES"
      ],
      "metadata": {
        "id": "Q7k_dSNFBdNx"
      }
    },
    {
      "cell_type": "code",
      "source": [
        "#Running the Games\n",
        "\n",
        "\n",
        "# Run Tic-Tac-Toe with Alpha-Beta search for 'O' and Random Player for 'X'\n",
        "result1 = play_game(TicTacToe(), {'X': random_player, 'O': alpha_beta_player}, verbose=True)\n",
        "print(f\"Result with Alpha-Beta vs Random: {result1}\")\n",
        "\n",
        "# Run Tic-Tac-Toe with Minimax search for 'O' and Alpha-Beta search for 'X'\n",
        "result2 = play_game(TicTacToe(), {'X': alpha_beta_player, 'O': minimax_player}, verbose=True)\n",
        "print(f\"Result with Minimax vs Alpha-Beta: {result2}\")"
      ],
      "metadata": {
        "colab": {
          "base_uri": "https://localhost:8080/"
        },
        "id": "DIC51hXgBL90",
        "outputId": "047fd1bd-1e5d-4a98-82e6-c2808c17971a"
      },
      "execution_count": 37,
      "outputs": [
        {
          "output_type": "stream",
          "name": "stdout",
          "text": [
            " | | \n",
            " | | \n",
            " | | \n",
            "\n",
            " | | \n",
            " |X| \n",
            " | | \n",
            "\n",
            "O| | \n",
            " |X| \n",
            " | | \n",
            "\n",
            "O| | \n",
            "X|X| \n",
            " | | \n",
            "\n",
            "O|O| \n",
            "X|X| \n",
            " | | \n",
            "\n",
            "O|O| \n",
            "X|X| \n",
            " |X| \n",
            "\n",
            "O|O|O\n",
            "X|X| \n",
            " |X| \n",
            "\n",
            "Result with Alpha-Beta vs Random: O\n",
            " | | \n",
            " | | \n",
            " | | \n",
            "\n",
            "X| | \n",
            " | | \n",
            " | | \n",
            "\n",
            "X|O| \n",
            " | | \n",
            " | | \n",
            "\n",
            "X|O|X\n",
            " | | \n",
            " | | \n",
            "\n",
            "X|O|X\n",
            "O| | \n",
            " | | \n",
            "\n",
            "X|O|X\n",
            "O|X| \n",
            " | | \n",
            "\n",
            "X|O|X\n",
            "O|X|O\n",
            " | | \n",
            "\n",
            "X|O|X\n",
            "O|X|O\n",
            "X| | \n",
            "\n",
            "Result with Minimax vs Alpha-Beta: X\n"
          ]
        }
      ]
    }
  ]
}
