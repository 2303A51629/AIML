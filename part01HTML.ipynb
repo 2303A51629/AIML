{
  "nbformat": 4,
  "nbformat_minor": 0,
  "metadata": {
    "colab": {
      "provenance": [],
      "authorship_tag": "ABX9TyP/jR6IurwsbO+P4SGKAGMC",
      "include_colab_link": true
    },
    "kernelspec": {
      "name": "python3",
      "display_name": "Python 3"
    },
    "language_info": {
      "name": "python"
    }
  },
  "cells": [
    {
      "cell_type": "markdown",
      "metadata": {
        "id": "view-in-github",
        "colab_type": "text"
      },
      "source": [
        "<a href=\"https://colab.research.google.com/github/2303A51629/AIML/blob/main/part01HTML.ipynb\" target=\"_parent\"><img src=\"https://colab.research.google.com/assets/colab-badge.svg\" alt=\"Open In Colab\"/></a>"
      ]
    },
    {
      "cell_type": "code",
      "execution_count": null,
      "metadata": {
        "colab": {
          "base_uri": "https://localhost:8080/"
        },
        "id": "fsxxwLrSxAso",
        "outputId": "d647b038-e7e6-4d30-8135-2dadd1bab625"
      },
      "outputs": [
        {
          "output_type": "execute_result",
          "data": {
            "text/plain": [
              "array([1, 2, 3])"
            ]
          },
          "metadata": {},
          "execution_count": 10
        }
      ],
      "source": [
        "#writing list and array\n",
        "import numpy as np\n",
        "a=[1,2,3]\n",
        "b=[4,5,6]\n",
        "c=np.array(a)\n",
        "c\n",
        "\n"
      ]
    },
    {
      "cell_type": "code",
      "source": [
        "d=np.array(b)\n",
        "b"
      ],
      "metadata": {
        "colab": {
          "base_uri": "https://localhost:8080/"
        },
        "id": "Vm-JLvcby9Q6",
        "outputId": "eb8889db-26ba-4f0a-d1d9-e85a986740e0"
      },
      "execution_count": null,
      "outputs": [
        {
          "output_type": "execute_result",
          "data": {
            "text/plain": [
              "[4, 5, 6]"
            ]
          },
          "metadata": {},
          "execution_count": 11
        }
      ]
    },
    {
      "cell_type": "markdown",
      "source": [
        "#\n",
        "identify their type usingtype()"
      ],
      "metadata": {
        "id": "Y7fUP3hkz-VC"
      }
    },
    {
      "cell_type": "code",
      "source": [
        "type(a)"
      ],
      "metadata": {
        "colab": {
          "base_uri": "https://localhost:8080/"
        },
        "id": "xEb0t6tizNpI",
        "outputId": "2df5abb7-3dd9-45d5-a11d-4ca2b0c2a171"
      },
      "execution_count": null,
      "outputs": [
        {
          "output_type": "execute_result",
          "data": {
            "text/plain": [
              "list"
            ]
          },
          "metadata": {},
          "execution_count": 12
        }
      ]
    },
    {
      "cell_type": "code",
      "source": [
        "type(b)\n"
      ],
      "metadata": {
        "colab": {
          "base_uri": "https://localhost:8080/"
        },
        "id": "QQ2tY82vzgx5",
        "outputId": "5ab3acd3-f9c6-4ce5-f3cf-01c2e2520c3d"
      },
      "execution_count": null,
      "outputs": [
        {
          "output_type": "execute_result",
          "data": {
            "text/plain": [
              "list"
            ]
          },
          "metadata": {},
          "execution_count": 13
        }
      ]
    },
    {
      "cell_type": "code",
      "source": [],
      "metadata": {
        "id": "wZ-i7ABPzsad"
      },
      "execution_count": null,
      "outputs": []
    },
    {
      "cell_type": "code",
      "source": [
        "type(c)"
      ],
      "metadata": {
        "colab": {
          "base_uri": "https://localhost:8080/"
        },
        "id": "GUJ_xMHrzlf0",
        "outputId": "7679e059-da40-491f-e0cf-2af763c3eaaf"
      },
      "execution_count": null,
      "outputs": [
        {
          "output_type": "execute_result",
          "data": {
            "text/plain": [
              "numpy.ndarray"
            ]
          },
          "metadata": {},
          "execution_count": 14
        }
      ]
    },
    {
      "cell_type": "code",
      "source": [
        "type(d)"
      ],
      "metadata": {
        "colab": {
          "base_uri": "https://localhost:8080/"
        },
        "id": "T0S7NJq0zxhQ",
        "outputId": "c8aea951-0895-455e-c10d-cbafb74da0c2"
      },
      "execution_count": null,
      "outputs": [
        {
          "output_type": "execute_result",
          "data": {
            "text/plain": [
              "numpy.ndarray"
            ]
          },
          "metadata": {},
          "execution_count": 15
        }
      ]
    },
    {
      "cell_type": "markdown",
      "source": [
        "#perform mathematical operations on these datasets created-mulitipliaction division,poweroff"
      ],
      "metadata": {
        "id": "YcAOnd9W0RHv"
      }
    },
    {
      "cell_type": "code",
      "source": [
        "print(f'multiplication of {c} and {d}',c*d)\n",
        "print(f'divison of {c} and {d}',c/d)\n",
        "print(f'poweroff of {c}and {d}',c**d)"
      ],
      "metadata": {
        "colab": {
          "base_uri": "https://localhost:8080/"
        },
        "id": "c29bcgUx0r8y",
        "outputId": "84255747-1288-4d14-bd64-64b335640efe"
      },
      "execution_count": null,
      "outputs": [
        {
          "output_type": "stream",
          "name": "stdout",
          "text": [
            "multiplication of [1 2 3] and [4 5 6] [ 4 10 18]\n",
            "divison of [1 2 3] and [4 5 6] [0.25 0.4  0.5 ]\n",
            "poweroff of [1 2 3]and [4 5 6] [  1  32 729]\n"
          ]
        }
      ]
    },
    {
      "cell_type": "markdown",
      "source": [],
      "metadata": {
        "id": "tlIWIJ6521Y3"
      }
    },
    {
      "cell_type": "markdown",
      "source": [],
      "metadata": {
        "id": "rswHENEJ21zc"
      }
    },
    {
      "cell_type": "markdown",
      "source": [
        "#combine text with numpy\n",
        "\n"
      ],
      "metadata": {
        "id": "nHaau_fw2B15"
      }
    },
    {
      "cell_type": "code",
      "source": [
        "print(f'Addition of Two:{c}+{d}-',c+d)"
      ],
      "metadata": {
        "colab": {
          "base_uri": "https://localhost:8080/"
        },
        "id": "39m9YgRI2-KF",
        "outputId": "201ab432-5987-46e5-fc90-a285acba41b5"
      },
      "execution_count": null,
      "outputs": [
        {
          "output_type": "stream",
          "name": "stdout",
          "text": [
            "Addition of Two:[1 2 3]+[4 5 6]- [5 7 9]\n"
          ]
        }
      ]
    },
    {
      "cell_type": "markdown",
      "source": [
        "#implement np.sin(),log(),log2()np,exp()"
      ],
      "metadata": {
        "id": "in-Ha_2S3fuw"
      }
    },
    {
      "cell_type": "code",
      "source": [
        "s=print(f'sin value of a:',np.sin(a))\n",
        "l1=print(f'logarithm value of a:',np.log(a))\n",
        "l2=print(f'logarithm value of b:',np.log2(b))\n",
        "e=print(f'exponential value of b:',np.exp(b))"
      ],
      "metadata": {
        "colab": {
          "base_uri": "https://localhost:8080/"
        },
        "id": "G_3RnY9N3y_q",
        "outputId": "f4832b5b-a139-4f26-a48c-32e43ce8632a"
      },
      "execution_count": null,
      "outputs": [
        {
          "output_type": "stream",
          "name": "stdout",
          "text": [
            "sin value of a: [0.84147098 0.90929743 0.14112001]\n",
            "logarithm value of a: [0.         0.69314718 1.09861229]\n",
            "logarithm value of b: [2.         2.32192809 2.5849625 ]\n",
            "exponential value of b: [ 54.59815003 148.4131591  403.42879349]\n"
          ]
        }
      ]
    },
    {
      "cell_type": "code",
      "source": [],
      "metadata": {
        "id": "7FUbI6bN2pIu"
      },
      "execution_count": null,
      "outputs": []
    }
  ]
}